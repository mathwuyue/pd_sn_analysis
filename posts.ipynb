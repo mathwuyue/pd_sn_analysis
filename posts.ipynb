{
 "cells": [
  {
   "cell_type": "code",
   "execution_count": 1,
   "metadata": {},
   "outputs": [
    {
     "name": "stdout",
     "output_type": "stream",
     "text": [
      "(190848, 44)\n"
     ]
    },
    {
     "name": "stderr",
     "output_type": "stream",
     "text": [
      "c:\\Users\\seanx\\AppData\\Local\\Programs\\Python\\Python39\\lib\\site-packages\\IPython\\core\\interactiveshell.py:3251: DtypeWarning: Columns (14,35) have mixed types.Specify dtype option on import or set low_memory=False.\n",
      "  exec(code_obj, self.user_global_ns, self.user_ns)\n"
     ]
    }
   ],
   "source": [
    "import pandas as pd\n",
    "import numpy as np\n",
    "import seaborn as sns\n",
    "import matplotlib.pyplot as plt\n",
    "from sklearn.preprocessing import LabelEncoder\n",
    "import scipy.stats as stats\n",
    "\n",
    "df = pd.read_csv('final_data.csv')\n",
    "print(df.shape)\n",
    "# post content samples"
   ]
  },
  {
   "cell_type": "code",
   "execution_count": 13,
   "metadata": {},
   "outputs": [
    {
     "data": {
      "text/plain": [
       "Index(['cover', 'publish_date', 'weibo_content', 'zan', 'r_edited',\n",
       "       'r_weibo_content', 'r_user_id', 'weibo_id', 'user_type', 'r_location',\n",
       "       'is_long', 'crawler_time', 'r_device', 'retweet', 'location',\n",
       "       'is_rlong', 'url', 'r_zan', 'vedio', 'r_time', 'user_id', 'r_weibo_id',\n",
       "       'zhuan', 'ping', 'r_nickname', 'pic_content', 'device', 'touxiang',\n",
       "       'id', 'r_ping', 'r_user_type', 'nickname', 'r_url', 'publish_time',\n",
       "       'r_zhuan', 'edited', 'r_isLongText', 'r_zhan', 'ext', 'r_region',\n",
       "       'r_nick_name', 'region', 'video', 'labels'],\n",
       "      dtype='object')"
      ]
     },
     "execution_count": 13,
     "metadata": {},
     "output_type": "execute_result"
    }
   ],
   "source": [
    "df.columns"
   ]
  },
  {
   "cell_type": "code",
   "execution_count": 14,
   "metadata": {},
   "outputs": [],
   "source": [
    "df1 = df.loc[df['nickname'] == '微信vc0160龙元熄颤汤24小时咨询']\n",
    "df2 = df.loc[df['nickname'] == '西安交大一附院帕金森中心陈伟']"
   ]
  },
  {
   "cell_type": "code",
   "execution_count": 12,
   "metadata": {},
   "outputs": [],
   "source": [
    "with open(\"weibo_content\\content_TCM.txt\",\"w\",encoding=\"utf-8\") as f:\n",
    "    for i in df1['weibo_content'].head(30):\n",
    "        f.write(i+'\\n')"
   ]
  },
  {
   "cell_type": "code",
   "execution_count": null,
   "metadata": {},
   "outputs": [],
   "source": [
    "with open(\"weibo_content\\content_Verified.txt\",\"w\",encoding=\"utf-8\") as f:\n",
    "    for i in df2['weibo_content'].head(30):\n",
    "        f.write(i+'\\n')"
   ]
  }
 ],
 "metadata": {
  "kernelspec": {
   "display_name": "Python 3",
   "language": "python",
   "name": "python3"
  },
  "language_info": {
   "codemirror_mode": {
    "name": "ipython",
    "version": 3
   },
   "file_extension": ".py",
   "mimetype": "text/x-python",
   "name": "python",
   "nbconvert_exporter": "python",
   "pygments_lexer": "ipython3",
   "version": "3.9.0"
  },
  "orig_nbformat": 4
 },
 "nbformat": 4,
 "nbformat_minor": 2
}
