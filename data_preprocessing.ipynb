{
 "cells": [
  {
   "cell_type": "code",
   "execution_count": 12,
   "id": "9f59d3a5-0ef6-45f7-ae8a-22b2b63fcb8f",
   "metadata": {},
   "outputs": [],
   "source": [
    "#第一步，将\"weibo_content\"为“转发微博”或“快转微博”的数据替换成“r_weibo_content”的内容"
   ]
  },
  {
   "cell_type": "code",
   "execution_count": 120,
   "id": "120a4b83-63e2-4586-8ebe-522a57c63bed",
   "metadata": {},
   "outputs": [],
   "source": [
    "#读取文件并转换成dataframe格式\n",
    "import pandas as pd\n",
    "import json\n",
    "\n",
    "weibo_folder = 'weibo/'\n",
    "\n",
    "data = []\n",
    "with open(weibo_folder+ 'output.ndjson', 'r') as file:\n",
    "    for line in file:\n",
    "        data.append(json.loads(line))\n",
    "\n",
    "# 将数据转换为DataFrame\n",
    "df = pd.DataFrame(data)"
   ]
  },
  {
   "cell_type": "code",
   "execution_count": 121,
   "id": "b788102d-c937-4a4d-a435-e504f20f8ffa",
   "metadata": {},
   "outputs": [
    {
     "name": "stdout",
     "output_type": "stream",
     "text": [
      "       weibo_content\n",
      "0               转发微博\n",
      "10              转发微博\n",
      "15              转发微博\n",
      "23              转发微博\n",
      "29              转发微博\n",
      "...              ...\n",
      "370164          转发微博\n",
      "370171          转发微博\n",
      "370178          转发微博\n",
      "370180          转发微博\n",
      "370186          转发微博\n",
      "\n",
      "[44818 rows x 1 columns]\n"
     ]
    }
   ],
   "source": [
    "# 查看'weibo_content'中内容为‘转发微博’或者‘快转微博’的行\n",
    "mask = df['weibo_content'].str.match('转发微博' or '快转微博')\n",
    "result = df[mask]\n",
    "df1 = pd.DataFrame(result['weibo_content'])\n",
    "print(df1)\n"
   ]
  },
  {
   "cell_type": "code",
   "execution_count": 122,
   "id": "daef2313-b9c6-40fa-b866-7f95ffe723d1",
   "metadata": {},
   "outputs": [],
   "source": [
    "# 使用 loc 函数选取符合条件的行，并将 'weibo_content' 列替换为 'r_weibo_content' 列\n",
    "df.loc[df['weibo_content'].isin(['转发微博', '快转微博']), 'weibo_content'] = df['r_weibo_content']\n",
    "\n",
    "# 输出修改后的 dataframe\n",
    "# print(df)"
   ]
  },
  {
   "cell_type": "code",
   "execution_count": 112,
   "id": "118472b5-f63d-42d2-8286-5c76a6d9cbfd",
   "metadata": {},
   "outputs": [
    {
     "name": "stdout",
     "output_type": "stream",
     "text": [
      "                                            weibo_content\n",
      "764                                       转发微博//@帕金森氏三:转发\n",
      "2638                                      转发微博//@罗大伦:转发微博\n",
      "3200        转发微博//@Devil_angel96:It’s hard to say goodbye\n",
      "3335                                       转发微博//@接臧:转发微博\n",
      "8450                                     转发微博//@快乐买谷:【投稿】\n",
      "...                                                   ...\n",
      "327277  转发微博//@文明冲浪指南:怎么会这么好笑//@神奇的哈哈酱:哈哈哈哈哈哈哈哈哈哈哈哈哈哈哈...\n",
      "328494  转发微博//@赏味不足:啥玩意儿？？？//@Alysa艾梨利莎: ？？？吓到我了//@妖盐货...\n",
      "331793  转发微博//@Yoo酱酱酱:[蜡烛]走好//@白饭_WHITE:[蜡烛]//@集真藍://@...\n",
      "332444                                  转发微博//@炮兵杨昭友:转发微博\n",
      "366481                     转发微博。同“拜拜”“帕金森”一样，都是垃圾音译，污染汉语。\n",
      "\n",
      "[100 rows x 1 columns]\n"
     ]
    }
   ],
   "source": [
    "#再次查看替换的效果，发现已全部替换\n",
    "mask = df['weibo_content'].str.match('转发微博' or '快转微博')\n",
    "result = df[mask]\n",
    "df2 = pd.DataFrame(result['weibo_content'])\n",
    "#print(df2)"
   ]
  },
  {
   "cell_type": "code",
   "execution_count": 126,
   "id": "34d8326e-42ba-44a9-a07b-5475565f3608",
   "metadata": {},
   "outputs": [],
   "source": [
    "# 保存处理的好的数据至weibo文件夹中，命名为new_data.csv\n",
    "df.to_csv(\"weibo/new_data.csv\",index=False,encoding=\"utf_8_sig\")"
   ]
  },
  {
   "cell_type": "code",
   "execution_count": 14,
   "id": "2404ab19-4a7f-46aa-9a95-4963f68f9569",
   "metadata": {},
   "outputs": [],
   "source": [
    "#第二步，清洗数据"
   ]
  },
  {
   "cell_type": "code",
   "execution_count": 113,
   "id": "5aa292d9-09d6-4248-9a2c-d09a1ee53d8e",
   "metadata": {},
   "outputs": [],
   "source": [
    "import pandas as pd\n",
    "import re\n",
    "import emoji\n",
    "import opencc"
   ]
  },
  {
   "cell_type": "code",
   "execution_count": 114,
   "id": "8959aa50-b184-420d-a172-e4a8e87c2ae3",
   "metadata": {},
   "outputs": [],
   "source": [
    "# 初始化OpenCC对象\n",
    "converter = opencc.OpenCC('t2s.json')"
   ]
  },
  {
   "cell_type": "code",
   "execution_count": 127,
   "id": "4b18d20a-8e87-4da7-a7e2-0598ac9e4b1c",
   "metadata": {},
   "outputs": [
    {
     "name": "stderr",
     "output_type": "stream",
     "text": [
      "/tmp/ipykernel_4014814/3459472299.py:1: DtypeWarning: Columns (14,35) have mixed types. Specify dtype option on import or set low_memory=False.\n",
      "  new_data=pd.read_csv(\"weibo/new_data.csv\",encoding=\"utf_8_sig\")\n"
     ]
    },
    {
     "data": {
      "text/plain": [
       "0         #南车微视角#  【#世界帕金森病日#|这位“老年杀手”，要当心！[话筒]】帕金森病是一种神...\n",
       "1                                                   有这么绝的图哦\n",
       "2         好看[抓狂][抓狂][抓狂]//@狗狗热刊报道:黑白滤镜好配他[悲伤]//@-APRILSE...\n",
       "3         看了《妈妈!》。\\n中间阿尔兹海默病老人们一起谈论妈妈的那段最让人感动，虽然患病，每位老人也...\n",
       "4         //@渠兮:好家伙//@皮皮辣酱:懂了//@绝望的野王:磕死我了//@久居仲夏:ddddna...\n",
       "                                ...                        \n",
       "370184                     喜欢一个人待着的时间\\\\\\\\ 我是不是有帕金森啊这手抖的 ​​​\n",
       "370185                                          帕金森治愈计划 ​​​\n",
       "370186    重大突破！科学家利用iPSC首次培养出高度成熟神经元，有望治疗帕金森/阿尔兹海默症等神经退行...\n",
       "370187    重大突破！科学家利用iPSC首次培养出高度成熟神经元，有望治疗帕金森/阿尔兹海默症等神经退行...\n",
       "370188    偶然间刷到的视频，90后母亲患阿尔兹海默症，父亲患帕金森综合症，记录他们的点点滴滴。在这个时...\n",
       "Name: weibo_content, Length: 370189, dtype: object"
      ]
     },
     "execution_count": 127,
     "metadata": {},
     "output_type": "execute_result"
    }
   ],
   "source": [
    "new_data=pd.read_csv(\"weibo/new_data.csv\",encoding=\"utf_8_sig\")\n",
    "new_data['weibo_content']"
   ]
  },
  {
   "cell_type": "code",
   "execution_count": 128,
   "id": "cc18810f-2df7-4e11-9d4d-a9428cfbd4d4",
   "metadata": {},
   "outputs": [],
   "source": [
    "# 定义一个清洗函数\n",
    "def clean_text(text):\n",
    "    # 去除链接\n",
    "    text = re.sub(r'http\\S+', '', text)\n",
    "    # 去除表情\n",
    "    text = emoji.demojize(text, delimiters=(\"\", \"\"))\n",
    "    # 将繁体字转换为简体中文\n",
    "    text = converter.convert(text)\n",
    "    # 去除特殊符号\n",
    "    text = re.sub(r'[^\\w\\s]', '', text)\n",
    "    # 将英文转换为简体中文\n",
    "    #text = converter.convert(text, config='s2hk.json')\n",
    "    # 去除空格\n",
    "    text = text.strip()\n",
    "    return text"
   ]
  },
  {
   "cell_type": "code",
   "execution_count": 129,
   "id": "5ecbca10-5a68-4c42-bf83-5dc2fc3e53cd",
   "metadata": {},
   "outputs": [
    {
     "data": {
      "text/plain": [
       "0         南车微视角  世界帕金森病日这位老年杀手要当心话筒帕金森病是一种神经系统退行性疾病在中老年人...\n",
       "1                                                   有这么绝的图哦\n",
       "2         好看抓狂抓狂抓狂狗狗热刊报道黑白滤镜好配他悲伤APRILSEVEN那也是一组神图我像天使李现...\n",
       "3         看了妈妈n中间阿尔兹海默病老人们一起谈论妈妈的那段最让人感动虽然患病每位老人也都记得自己的妈...\n",
       "4         渠兮好家伙皮皮辣酱懂了绝望的野王磕死我了久居仲夏ddddna开开开始帕金森了了了了了吻博卧槽...\n",
       "                                ...                        \n",
       "370184                             喜欢一个人待着的时间 我是不是有帕金森啊这手抖的\n",
       "370185                                              帕金森治愈计划\n",
       "370186    重大突破科学家利用iPSC首次培养出高度成熟神经元有望治疗帕金森阿尔兹海默症等神经退行性疾病...\n",
       "370187    重大突破科学家利用iPSC首次培养出高度成熟神经元有望治疗帕金森阿尔兹海默症等神经退行性疾病...\n",
       "370188    偶然间刷到的视频90后母亲患阿尔兹海默症父亲患帕金森综合症记录他们的点点滴滴在这个时间点哭得...\n",
       "Name: weibo_content, Length: 370189, dtype: object"
      ]
     },
     "execution_count": 129,
     "metadata": {},
     "output_type": "execute_result"
    }
   ],
   "source": [
    "# 应用清洗函数到“weibo_content”列\n",
    "new_data['weibo_content'] = new_data['weibo_content'].apply(clean_text)\n",
    "new_data['weibo_content'] "
   ]
  },
  {
   "cell_type": "code",
   "execution_count": null,
   "id": "b7aa9850-7068-48d6-9b25-f10b37641d08",
   "metadata": {},
   "outputs": [],
   "source": [
    "#第三步，剔除与与PD无关的广告、明星营销数据（二分类）"
   ]
  },
  {
   "cell_type": "code",
   "execution_count": 208,
   "id": "2921879b-27be-4d66-8242-c8cabdc07df8",
   "metadata": {},
   "outputs": [],
   "source": [
    "import pandas as pd\n",
    "from sklearn.model_selection import train_test_split"
   ]
  },
  {
   "cell_type": "code",
   "execution_count": 209,
   "id": "b261c300-2b5a-436c-93a0-04fa4eff1451",
   "metadata": {},
   "outputs": [],
   "source": [
    "data = pd.read_csv(\"weibo/data_to_preprocessing.csv\")"
   ]
  },
  {
   "cell_type": "code",
   "execution_count": 210,
   "id": "76007c77-348f-495f-addb-19145116e307",
   "metadata": {},
   "outputs": [],
   "source": [
    "data['weibo_content'] = data['weibo_content'].astype(str)\n",
    "data['weibo_content'] = data['weibo_content'].apply(clean_text)"
   ]
  },
  {
   "cell_type": "code",
   "execution_count": 211,
   "id": "ffcc1ff8-dc22-44e5-bd0c-26e3768986c7",
   "metadata": {},
   "outputs": [],
   "source": [
    "data.rename(columns={'weibo_content': 'text'}, inplace=True)"
   ]
  },
  {
   "cell_type": "code",
   "execution_count": null,
   "id": "c9833529-1d4d-4eba-887e-23cbe76f03d0",
   "metadata": {},
   "outputs": [],
   "source": []
  },
  {
   "cell_type": "code",
   "execution_count": 212,
   "id": "0aefb249-6331-4163-b8b3-030e66182636",
   "metadata": {},
   "outputs": [],
   "source": [
    "# 将数据集拆分为训练集、验证集和测试集\n",
    "train_data, test_data = train_test_split(data, test_size=0.2, random_state=42)\n",
    "train_data, val_data = train_test_split(train_data, test_size=0.1, random_state=42)\n",
    "\n",
    "# 加载标签和文本\n",
    "train_labels = train_data.labels.values\n",
    "val_labels = val_data.labels.values\n",
    "test_labels = test_data.labels.values\n",
    "\n",
    "train_texts = train_data.text.values\n",
    "val_texts = val_data.text.values\n",
    "test_texts = test_data.text.values"
   ]
  },
  {
   "cell_type": "code",
   "execution_count": 213,
   "id": "0d6edd18-f87a-42cd-a579-5f4a6afb436d",
   "metadata": {},
   "outputs": [],
   "source": [
    "train_texts=train_texts.tolist()\n",
    "val_texts=val_texts.tolist()\n",
    "test_texts=test_texts.tolist()"
   ]
  },
  {
   "cell_type": "code",
   "execution_count": 214,
   "id": "43469305-d7ce-4e3b-b61c-7196bcc2f92e",
   "metadata": {},
   "outputs": [],
   "source": [
    "train_texts_s= [str(obj) for obj in train_texts]\n",
    "val_texts_s= [str(obj) for obj in val_texts]\n",
    "test_texts_s= [str(obj) for obj in test_texts]"
   ]
  },
  {
   "cell_type": "code",
   "execution_count": null,
   "id": "38978f6f-e6ba-480b-87ed-84d625487fca",
   "metadata": {},
   "outputs": [],
   "source": [
    "# 对文本进行标记化和编码\n",
    "from transformers import BertTokenizer\n",
    "\n",
    "tokenizer = BertTokenizer.from_pretrained('bert-base-chinese')\n",
    "\n",
    "train_encodings = tokenizer(train_texts.tolist(), truncation=True, padding=True)\n",
    "val_encodings = tokenizer(val_texts.tolist(), truncation=True, padding=True)\n",
    "test_encodings = tokenizer(test_texts.tolist(), truncation=True, padding=True)"
   ]
  },
  {
   "cell_type": "code",
   "execution_count": 215,
   "id": "0314b5d9-f53e-4caf-9ba7-f8c623a15dab",
   "metadata": {},
   "outputs": [],
   "source": [
    "# 创建数据加载器\n",
    "import torch\n",
    "\n",
    "class WeiboDataset(torch.utils.data.Dataset):\n",
    "    def __init__(self, encodings, labels):\n",
    "        self.encodings = encodings\n",
    "        self.labels = labels\n",
    "\n",
    "    def __getitem__(self, idx):\n",
    "        item = {key: torch.tensor(val[idx]) for key, val in self.encodings.items()}\n",
    "        item['labels'] = torch.tensor(self.labels[idx])\n",
    "        return item\n",
    "\n",
    "    def __len__(self):\n",
    "        return len(self.labels)\n",
    "\n",
    "train_dataset = WeiboDataset(train_encodings, train_labels)\n",
    "val_dataset = WeiboDataset(val_encodings, val_labels)\n",
    "test_dataset = WeiboDataset(test_encodings, test_labels)\n",
    "\n",
    "train_loader = torch.utils.data.DataLoader(train_dataset, batch_size=16, shuffle=True)\n",
    "val_loader = torch.utils.data.DataLoader(val_dataset, batch_size=16, shuffle=True)\n",
    "test_loader = torch.utils.data.DataLoader(test_dataset, batch_size=16, shuffle=True)"
   ]
  },
  {
   "cell_type": "code",
   "execution_count": 216,
   "id": "1fc46989-2124-4b59-85c2-a10473b36e70",
   "metadata": {},
   "outputs": [
    {
     "name": "stderr",
     "output_type": "stream",
     "text": [
      "Some weights of the model checkpoint at bert-base-chinese were not used when initializing BertForSequenceClassification: ['cls.predictions.transform.LayerNorm.bias', 'cls.predictions.transform.LayerNorm.weight', 'cls.predictions.transform.dense.weight', 'cls.predictions.bias', 'cls.predictions.decoder.weight', 'cls.seq_relationship.bias', 'cls.seq_relationship.weight', 'cls.predictions.transform.dense.bias']\n",
      "- This IS expected if you are initializing BertForSequenceClassification from the checkpoint of a model trained on another task or with another architecture (e.g. initializing a BertForSequenceClassification model from a BertForPreTraining model).\n",
      "- This IS NOT expected if you are initializing BertForSequenceClassification from the checkpoint of a model that you expect to be exactly identical (initializing a BertForSequenceClassification model from a BertForSequenceClassification model).\n",
      "Some weights of BertForSequenceClassification were not initialized from the model checkpoint at bert-base-chinese and are newly initialized: ['classifier.weight', 'classifier.bias']\n",
      "You should probably TRAIN this model on a down-stream task to be able to use it for predictions and inference.\n"
     ]
    }
   ],
   "source": [
    "from transformers import BertForSequenceClassification, AdamW\n",
    "from tqdm import tqdm\n",
    "\n",
    "# 加载BERT模型\n",
    "model = BertForSequenceClassification.from_pretrained('bert-base-chinese', num_labels=2)"
   ]
  },
  {
   "cell_type": "code",
   "execution_count": 217,
   "id": "dddd66fb-b247-4d39-94ef-13b95d25cfe6",
   "metadata": {},
   "outputs": [
    {
     "name": "stderr",
     "output_type": "stream",
     "text": [
      "100%|███████████████████████████████████████████████████████████████████████████████████████████████████████████████████████| 90/90 [00:09<00:00,  9.44it/s]\n",
      "100%|███████████████████████████████████████████████████████████████████████████████████████████████████████████████████████| 10/10 [00:00<00:00, 34.06it/s]\n"
     ]
    },
    {
     "name": "stdout",
     "output_type": "stream",
     "text": [
      "Epoch 1/10:\n",
      "Train Loss: 0.3424  Train Accuracy: 0.8708\n",
      "Val Loss: 0.1545  Val Accuracy: 0.9625\n",
      "--------------------------\n"
     ]
    },
    {
     "name": "stderr",
     "output_type": "stream",
     "text": [
      "100%|███████████████████████████████████████████████████████████████████████████████████████████████████████████████████████| 90/90 [00:09<00:00,  9.46it/s]\n",
      "100%|███████████████████████████████████████████████████████████████████████████████████████████████████████████████████████| 10/10 [00:00<00:00, 34.38it/s]\n"
     ]
    },
    {
     "name": "stdout",
     "output_type": "stream",
     "text": [
      "Epoch 2/10:\n",
      "Train Loss: 0.1483  Train Accuracy: 0.9465\n",
      "Val Loss: 0.1129  Val Accuracy: 0.9688\n",
      "--------------------------\n"
     ]
    },
    {
     "name": "stderr",
     "output_type": "stream",
     "text": [
      "100%|███████████████████████████████████████████████████████████████████████████████████████████████████████████████████████| 90/90 [00:09<00:00,  9.36it/s]\n",
      "100%|███████████████████████████████████████████████████████████████████████████████████████████████████████████████████████| 10/10 [00:00<00:00, 33.88it/s]\n"
     ]
    },
    {
     "name": "stdout",
     "output_type": "stream",
     "text": [
      "Epoch 3/10:\n",
      "Train Loss: 0.0615  Train Accuracy: 0.9806\n",
      "Val Loss: 0.1228  Val Accuracy: 0.9625\n",
      "--------------------------\n"
     ]
    },
    {
     "name": "stderr",
     "output_type": "stream",
     "text": [
      "100%|███████████████████████████████████████████████████████████████████████████████████████████████████████████████████████| 90/90 [00:09<00:00,  9.38it/s]\n",
      "100%|███████████████████████████████████████████████████████████████████████████████████████████████████████████████████████| 10/10 [00:00<00:00, 34.06it/s]\n"
     ]
    },
    {
     "name": "stdout",
     "output_type": "stream",
     "text": [
      "Epoch 4/10:\n",
      "Train Loss: 0.0338  Train Accuracy: 0.9917\n",
      "Val Loss: 0.1039  Val Accuracy: 0.9750\n",
      "--------------------------\n"
     ]
    },
    {
     "name": "stderr",
     "output_type": "stream",
     "text": [
      "100%|███████████████████████████████████████████████████████████████████████████████████████████████████████████████████████| 90/90 [00:09<00:00,  9.31it/s]\n",
      "100%|███████████████████████████████████████████████████████████████████████████████████████████████████████████████████████| 10/10 [00:00<00:00, 33.73it/s]\n"
     ]
    },
    {
     "name": "stdout",
     "output_type": "stream",
     "text": [
      "Epoch 5/10:\n",
      "Train Loss: 0.0311  Train Accuracy: 0.9917\n",
      "Val Loss: 0.2293  Val Accuracy: 0.9500\n",
      "--------------------------\n"
     ]
    },
    {
     "name": "stderr",
     "output_type": "stream",
     "text": [
      "100%|███████████████████████████████████████████████████████████████████████████████████████████████████████████████████████| 90/90 [00:09<00:00,  9.29it/s]\n",
      "100%|███████████████████████████████████████████████████████████████████████████████████████████████████████████████████████| 10/10 [00:00<00:00, 33.75it/s]\n"
     ]
    },
    {
     "name": "stdout",
     "output_type": "stream",
     "text": [
      "Epoch 6/10:\n",
      "Train Loss: 0.0094  Train Accuracy: 0.9979\n",
      "Val Loss: 0.1345  Val Accuracy: 0.9688\n",
      "--------------------------\n"
     ]
    },
    {
     "name": "stderr",
     "output_type": "stream",
     "text": [
      "100%|███████████████████████████████████████████████████████████████████████████████████████████████████████████████████████| 90/90 [00:09<00:00,  9.29it/s]\n",
      "100%|███████████████████████████████████████████████████████████████████████████████████████████████████████████████████████| 10/10 [00:00<00:00, 33.70it/s]\n"
     ]
    },
    {
     "name": "stdout",
     "output_type": "stream",
     "text": [
      "Epoch 7/10:\n",
      "Train Loss: 0.0094  Train Accuracy: 0.9972\n",
      "Val Loss: 0.1483  Val Accuracy: 0.9688\n",
      "--------------------------\n"
     ]
    },
    {
     "name": "stderr",
     "output_type": "stream",
     "text": [
      "100%|███████████████████████████████████████████████████████████████████████████████████████████████████████████████████████| 90/90 [00:09<00:00,  9.27it/s]\n",
      "100%|███████████████████████████████████████████████████████████████████████████████████████████████████████████████████████| 10/10 [00:00<00:00, 33.61it/s]\n"
     ]
    },
    {
     "name": "stdout",
     "output_type": "stream",
     "text": [
      "Epoch 8/10:\n",
      "Train Loss: 0.0048  Train Accuracy: 0.9993\n",
      "Val Loss: 0.1289  Val Accuracy: 0.9812\n",
      "--------------------------\n"
     ]
    },
    {
     "name": "stderr",
     "output_type": "stream",
     "text": [
      "100%|███████████████████████████████████████████████████████████████████████████████████████████████████████████████████████| 90/90 [00:09<00:00,  9.26it/s]\n",
      "100%|███████████████████████████████████████████████████████████████████████████████████████████████████████████████████████| 10/10 [00:00<00:00, 33.47it/s]\n"
     ]
    },
    {
     "name": "stdout",
     "output_type": "stream",
     "text": [
      "Epoch 9/10:\n",
      "Train Loss: 0.0018  Train Accuracy: 1.0000\n",
      "Val Loss: 0.1340  Val Accuracy: 0.9750\n",
      "--------------------------\n"
     ]
    },
    {
     "name": "stderr",
     "output_type": "stream",
     "text": [
      "100%|███████████████████████████████████████████████████████████████████████████████████████████████████████████████████████| 90/90 [00:09<00:00,  9.26it/s]\n",
      "100%|███████████████████████████████████████████████████████████████████████████████████████████████████████████████████████| 10/10 [00:00<00:00, 33.56it/s]\n"
     ]
    },
    {
     "name": "stdout",
     "output_type": "stream",
     "text": [
      "Epoch 10/10:\n",
      "Train Loss: 0.0013  Train Accuracy: 1.0000\n",
      "Val Loss: 0.1402  Val Accuracy: 0.9688\n",
      "--------------------------\n"
     ]
    },
    {
     "name": "stderr",
     "output_type": "stream",
     "text": [
      "100%|███████████████████████████████████████████████████████████████████████████████████████████████████████████████████████| 25/25 [00:00<00:00, 32.33it/s]\n"
     ]
    },
    {
     "data": {
      "image/png": "[encoded data removed]",
      "text/plain": [
       "<Figure size 640x480 with 1 Axes>"
      ]
     },
     "metadata": {},
     "output_type": "display_data"
    },
    {
     "name": "stdout",
     "output_type": "stream",
     "text": [
      "Accuracy: 0.9225\n",
      "Precision: 0.9126\n",
      "Recall: 0.9353\n",
      "F1 Score: 0.9238\n",
      "AUC: 0.9820\n"
     ]
    },
    {
     "data": {
      "text/plain": [
       "('bert_weibo_model_1/tokenizer_config.json',\n",
       " 'bert_weibo_model_1/special_tokens_map.json',\n",
       " 'bert_weibo_model_1/vocab.txt',\n",
       " 'bert_weibo_model_1/added_tokens.json')"
      ]
     },
     "execution_count": 217,
     "metadata": {},
     "output_type": "execute_result"
    }
   ],
   "source": [
    "import torch.optim as optim\n",
    "from torch.optim.lr_scheduler import ReduceLROnPlateau\n",
    "from sklearn.preprocessing import label_binarize\n",
    "from sklearn.metrics import roc_curve, auc\n",
    "import numpy as np\n",
    "import matplotlib.pyplot as plt\n",
    "import seaborn as sns\n",
    "\n",
    "# 定义训练参数\n",
    "optimizer = optim.AdamW(model.parameters(), lr=1e-5, eps=1e-8, weight_decay=0.01)  # 添加L2正则化项\n",
    "scheduler = ReduceLROnPlateau(optimizer, 'min', patience=2)\n",
    "\n",
    "num_epochs = 10\n",
    "\n",
    "train_losses = []  # 存储训练损失的列表\n",
    "train_accs = []  # 存储训练集的准确度\n",
    "val_losses = []  # 存储验证损失的列表\n",
    "val_accs = []  # 存储验证集的准确度\n",
    "test_probs = []  # 存储测试集的预测概率\n",
    "test_labels = []  # 存储测试集的真实标签\n",
    "\n",
    "# 训练BERT模型\n",
    "device = torch.device('cuda') if torch.cuda.is_available() else torch.device('cpu')\n",
    "model.to(device)\n",
    "\n",
    "best_val_loss = float('inf')\n",
    "best_val_acc = 0\n",
    "\n",
    "for epoch in range(num_epochs):\n",
    "    model.train()\n",
    "    train_loss = 0\n",
    "    correct = 0\n",
    "    total = 0\n",
    "    for batch in tqdm(train_loader):\n",
    "        optimizer.zero_grad()\n",
    "        input_ids = batch['input_ids'].to(device)\n",
    "        attention_mask = batch['attention_mask'].to(device)\n",
    "        labels = batch['labels'].to(device)\n",
    "        outputs = model(input_ids, attention_mask=attention_mask, labels=labels)\n",
    "        loss = outputs.loss\n",
    "        loss.backward()\n",
    "        optimizer.step()\n",
    "        train_loss += loss.item()\n",
    "        _, predicted = torch.max(outputs.logits, 1)\n",
    "        total += labels.size(0)\n",
    "        correct += (predicted == labels).sum().item()\n",
    "    \n",
    "    train_loss /= len(train_loader)\n",
    "    train_acc = correct / total\n",
    "    train_losses.append(train_loss)\n",
    "    train_accs.append(train_acc)\n",
    "    \n",
    "    # 在验证集上评估模型，并记录验证集的损失和准确度\n",
    "    model.eval()\n",
    "    val_loss = 0\n",
    "    correct = 0\n",
    "    total = 0\n",
    "    val_probs = []\n",
    "    val_labels = []\n",
    "    with torch.no_grad():\n",
    "        for batch in tqdm(val_loader):\n",
    "            input_ids = batch['input_ids'].to(device)\n",
    "            attention_mask = batch['attention_mask'].to(device)\n",
    "            labels = batch['labels'].to(device)\n",
    "            outputs = model(input_ids, attention_mask=attention_mask, labels=labels)\n",
    "            loss = outputs.loss\n",
    "            val_loss += loss.item()\n",
    "            val_probs.extend(outputs.logits.softmax(dim=1).cpu().numpy())\n",
    "            val_labels.extend(labels.cpu().numpy())\n",
    "            _, predicted = torch.max(outputs.logits, 1)\n",
    "            total += labels.size(0)\n",
    "            correct += (predicted == labels).sum().item()\n",
    "\n",
    "    val_loss /= len(val_loader)\n",
    "    val_acc = correct / total\n",
    "    val_losses.append(val_loss)\n",
    "    val_accs.append(val_acc)\n",
    "    \n",
    "    # 保存在验证集上表现最好的模型参数\n",
    "    if val_acc > best_val_acc:\n",
    "        best_val_loss = val_loss\n",
    "        best_val_acc = val_acc\n",
    "        torch.save(model.state_dict(), 'best_model.pth')\n",
    "    \n",
    "    # 动态调整学习率\n",
    "    scheduler.step(val_loss)\n",
    "\n",
    "    # 打印训练损失和准确度\n",
    "    print(f'Epoch {epoch+1}/{num_epochs}:')\n",
    "    print(f'Train Loss: {train_loss:.4f}  Train Accuracy: {train_acc:.4f}')\n",
    "    print(f'Val Loss: {val_loss:.4f}  Val Accuracy: {val_acc:.4f}')\n",
    "    print('--------------------------')\n",
    "\n",
    "\n",
    "# 在测试集上评估模型，并记录预测概率和真实标签\n",
    "model.eval()\n",
    "test_loss = 0\n",
    "correct = 0\n",
    "total = 0\n",
    "test_probs = []\n",
    "test_labels = []\n",
    "with torch.no_grad():\n",
    "    for batch in tqdm(test_loader):\n",
    "        input_ids = batch['input_ids'].to(device)\n",
    "        attention_mask = batch['attention_mask'].to(device)\n",
    "        labels = batch['labels'].to(device)\n",
    "        outputs = model(input_ids, attention_mask=attention_mask, labels=labels)\n",
    "        loss = outputs.loss\n",
    "        test_loss += loss.item()\n",
    "        test_probs.extend(outputs.logits.softmax(dim=1).cpu().numpy())\n",
    "        test_labels.extend(labels.cpu().numpy())\n",
    "        _, predicted = torch.max(outputs.logits, 1)\n",
    "        total += labels.size(0)\n",
    "        correct += (predicted == labels).sum().item()\n",
    "\n",
    "test_loss /= len(test_loader)\n",
    "test_acc = correct / total\n",
    "\n",
    "# 将test_probs转换为NumPy数组\n",
    "test_probs = np.array(test_probs)\n",
    "\n",
    "# 计算ROC曲线和AUC值\n",
    "fpr, tpr, _ = roc_curve(test_labels, test_probs[:, 1])\n",
    "roc_auc = auc(fpr, tpr)\n",
    "\n",
    "# 绘制ROC曲线\n",
    "plt.figure()\n",
    "sns.set(style=\"whitegrid\")\n",
    "plt.plot(fpr, tpr, label='ROC curve (area = %0.2f)' % roc_auc, linewidth=2)\n",
    "plt.plot([0, 1], [0, 1], 'k--')\n",
    "plt.xlim([0.0, 1.0])\n",
    "plt.ylim([0.0, 1.05])\n",
    "plt.xlabel('False Positive Rate', fontsize=12)\n",
    "plt.ylabel('True Positive Rate', fontsize=12)\n",
    "plt.title('Receiver Operating Characteristic', fontsize=14)\n",
    "plt.legend(loc=\"lower right\", fontsize=12)\n",
    "plt.text(0.6, 0.2, 'AUC = %0.2f' % roc_auc, fontsize=12, bbox=dict(facecolor='white', edgecolor='black', boxstyle='round,pad=0.5'))\n",
    "plt.savefig('roc_curve_model1.jpg', dpi=600)\n",
    "plt.show()\n",
    "\n",
    "# 计算其他指标\n",
    "test_pred_labels = np.argmax(test_probs, axis=1)\n",
    "test_accuracy = accuracy_score(test_labels, test_pred_labels)\n",
    "test_precision = precision_score(test_labels, test_pred_labels)\n",
    "test_recall = recall_score(test_labels, test_pred_labels)\n",
    "test_f1_score = f1_score(test_labels, test_pred_labels)\n",
    "\n",
    "# 打印测试集的指标\n",
    "print('Accuracy: %.4f' % test_accuracy)\n",
    "print('Precision: %.4f' % test_precision)\n",
    "print('Recall: %.4f' % test_recall)\n",
    "print('F1 Score: %.4f' % test_f1_score)\n",
    "print('AUC: %.4f' % roc_auc)\n",
    "\n",
    "# 保存模型\n",
    "model.save_pretrained(\"bert_weibo_model_1\")\n",
    "tokenizer.save_pretrained(\"bert_weibo_model_1\")\n"
   ]
  },
  {
   "cell_type": "code",
   "execution_count": null,
   "id": "b9ac2ceb-b688-44a9-9cb1-153bcb0160ca",
   "metadata": {},
   "outputs": [],
   "source": []
  },
  {
   "cell_type": "code",
   "execution_count": null,
   "id": "c4d9514e-fe2f-4f10-afb4-4fe1d4e73a86",
   "metadata": {},
   "outputs": [],
   "source": []
  },
  {
   "cell_type": "code",
   "execution_count": null,
   "id": "d7b30dcd-3bf3-4f16-9bec-79ea31b9aebe",
   "metadata": {},
   "outputs": [],
   "source": []
  },
  {
   "cell_type": "code",
   "execution_count": null,
   "id": "707c03ac-eb8b-4f10-bae9-3d165d6fd156",
   "metadata": {},
   "outputs": [],
   "source": []
  },
  {
   "cell_type": "code",
   "execution_count": 144,
   "id": "0c97668a-8b27-4d6b-8ab2-bab075a88567",
   "metadata": {},
   "outputs": [],
   "source": [
    "#编写脚本来预测大量的文件\n",
    "import pandas as pd\n",
    "import torch\n",
    "from transformers import BertTokenizer, BertForSequenceClassification"
   ]
  },
  {
   "cell_type": "code",
   "execution_count": 145,
   "id": "11751eff-8692-45d5-ab82-0e9e041555b1",
   "metadata": {},
   "outputs": [
    {
     "data": {
      "text/plain": [
       "BertForSequenceClassification(\n",
       "  (bert): BertModel(\n",
       "    (embeddings): BertEmbeddings(\n",
       "      (word_embeddings): Embedding(21128, 768, padding_idx=0)\n",
       "      (position_embeddings): Embedding(512, 768)\n",
       "      (token_type_embeddings): Embedding(2, 768)\n",
       "      (LayerNorm): LayerNorm((768,), eps=1e-12, elementwise_affine=True)\n",
       "      (dropout): Dropout(p=0.1, inplace=False)\n",
       "    )\n",
       "    (encoder): BertEncoder(\n",
       "      (layer): ModuleList(\n",
       "        (0): BertLayer(\n",
       "          (attention): BertAttention(\n",
       "            (self): BertSelfAttention(\n",
       "              (query): Linear(in_features=768, out_features=768, bias=True)\n",
       "              (key): Linear(in_features=768, out_features=768, bias=True)\n",
       "              (value): Linear(in_features=768, out_features=768, bias=True)\n",
       "              (dropout): Dropout(p=0.1, inplace=False)\n",
       "            )\n",
       "            (output): BertSelfOutput(\n",
       "              (dense): Linear(in_features=768, out_features=768, bias=True)\n",
       "              (LayerNorm): LayerNorm((768,), eps=1e-12, elementwise_affine=True)\n",
       "              (dropout): Dropout(p=0.1, inplace=False)\n",
       "            )\n",
       "          )\n",
       "          (intermediate): BertIntermediate(\n",
       "            (dense): Linear(in_features=768, out_features=3072, bias=True)\n",
       "          )\n",
       "          (output): BertOutput(\n",
       "            (dense): Linear(in_features=3072, out_features=768, bias=True)\n",
       "            (LayerNorm): LayerNorm((768,), eps=1e-12, elementwise_affine=True)\n",
       "            (dropout): Dropout(p=0.1, inplace=False)\n",
       "          )\n",
       "        )\n",
       "        (1): BertLayer(\n",
       "          (attention): BertAttention(\n",
       "            (self): BertSelfAttention(\n",
       "              (query): Linear(in_features=768, out_features=768, bias=True)\n",
       "              (key): Linear(in_features=768, out_features=768, bias=True)\n",
       "              (value): Linear(in_features=768, out_features=768, bias=True)\n",
       "              (dropout): Dropout(p=0.1, inplace=False)\n",
       "            )\n",
       "            (output): BertSelfOutput(\n",
       "              (dense): Linear(in_features=768, out_features=768, bias=True)\n",
       "              (LayerNorm): LayerNorm((768,), eps=1e-12, elementwise_affine=True)\n",
       "              (dropout): Dropout(p=0.1, inplace=False)\n",
       "            )\n",
       "          )\n",
       "          (intermediate): BertIntermediate(\n",
       "            (dense): Linear(in_features=768, out_features=3072, bias=True)\n",
       "          )\n",
       "          (output): BertOutput(\n",
       "            (dense): Linear(in_features=3072, out_features=768, bias=True)\n",
       "            (LayerNorm): LayerNorm((768,), eps=1e-12, elementwise_affine=True)\n",
       "            (dropout): Dropout(p=0.1, inplace=False)\n",
       "          )\n",
       "        )\n",
       "        (2): BertLayer(\n",
       "          (attention): BertAttention(\n",
       "            (self): BertSelfAttention(\n",
       "              (query): Linear(in_features=768, out_features=768, bias=True)\n",
       "              (key): Linear(in_features=768, out_features=768, bias=True)\n",
       "              (value): Linear(in_features=768, out_features=768, bias=True)\n",
       "              (dropout): Dropout(p=0.1, inplace=False)\n",
       "            )\n",
       "            (output): BertSelfOutput(\n",
       "              (dense): Linear(in_features=768, out_features=768, bias=True)\n",
       "              (LayerNorm): LayerNorm((768,), eps=1e-12, elementwise_affine=True)\n",
       "              (dropout): Dropout(p=0.1, inplace=False)\n",
       "            )\n",
       "          )\n",
       "          (intermediate): BertIntermediate(\n",
       "            (dense): Linear(in_features=768, out_features=3072, bias=True)\n",
       "          )\n",
       "          (output): BertOutput(\n",
       "            (dense): Linear(in_features=3072, out_features=768, bias=True)\n",
       "            (LayerNorm): LayerNorm((768,), eps=1e-12, elementwise_affine=True)\n",
       "            (dropout): Dropout(p=0.1, inplace=False)\n",
       "          )\n",
       "        )\n",
       "        (3): BertLayer(\n",
       "          (attention): BertAttention(\n",
       "            (self): BertSelfAttention(\n",
       "              (query): Linear(in_features=768, out_features=768, bias=True)\n",
       "              (key): Linear(in_features=768, out_features=768, bias=True)\n",
       "              (value): Linear(in_features=768, out_features=768, bias=True)\n",
       "              (dropout): Dropout(p=0.1, inplace=False)\n",
       "            )\n",
       "            (output): BertSelfOutput(\n",
       "              (dense): Linear(in_features=768, out_features=768, bias=True)\n",
       "              (LayerNorm): LayerNorm((768,), eps=1e-12, elementwise_affine=True)\n",
       "              (dropout): Dropout(p=0.1, inplace=False)\n",
       "            )\n",
       "          )\n",
       "          (intermediate): BertIntermediate(\n",
       "            (dense): Linear(in_features=768, out_features=3072, bias=True)\n",
       "          )\n",
       "          (output): BertOutput(\n",
       "            (dense): Linear(in_features=3072, out_features=768, bias=True)\n",
       "            (LayerNorm): LayerNorm((768,), eps=1e-12, elementwise_affine=True)\n",
       "            (dropout): Dropout(p=0.1, inplace=False)\n",
       "          )\n",
       "        )\n",
       "        (4): BertLayer(\n",
       "          (attention): BertAttention(\n",
       "            (self): BertSelfAttention(\n",
       "              (query): Linear(in_features=768, out_features=768, bias=True)\n",
       "              (key): Linear(in_features=768, out_features=768, bias=True)\n",
       "              (value): Linear(in_features=768, out_features=768, bias=True)\n",
       "              (dropout): Dropout(p=0.1, inplace=False)\n",
       "            )\n",
       "            (output): BertSelfOutput(\n",
       "              (dense): Linear(in_features=768, out_features=768, bias=True)\n",
       "              (LayerNorm): LayerNorm((768,), eps=1e-12, elementwise_affine=True)\n",
       "              (dropout): Dropout(p=0.1, inplace=False)\n",
       "            )\n",
       "          )\n",
       "          (intermediate): BertIntermediate(\n",
       "            (dense): Linear(in_features=768, out_features=3072, bias=True)\n",
       "          )\n",
       "          (output): BertOutput(\n",
       "            (dense): Linear(in_features=3072, out_features=768, bias=True)\n",
       "            (LayerNorm): LayerNorm((768,), eps=1e-12, elementwise_affine=True)\n",
       "            (dropout): Dropout(p=0.1, inplace=False)\n",
       "          )\n",
       "        )\n",
       "        (5): BertLayer(\n",
       "          (attention): BertAttention(\n",
       "            (self): BertSelfAttention(\n",
       "              (query): Linear(in_features=768, out_features=768, bias=True)\n",
       "              (key): Linear(in_features=768, out_features=768, bias=True)\n",
       "              (value): Linear(in_features=768, out_features=768, bias=True)\n",
       "              (dropout): Dropout(p=0.1, inplace=False)\n",
       "            )\n",
       "            (output): BertSelfOutput(\n",
       "              (dense): Linear(in_features=768, out_features=768, bias=True)\n",
       "              (LayerNorm): LayerNorm((768,), eps=1e-12, elementwise_affine=True)\n",
       "              (dropout): Dropout(p=0.1, inplace=False)\n",
       "            )\n",
       "          )\n",
       "          (intermediate): BertIntermediate(\n",
       "            (dense): Linear(in_features=768, out_features=3072, bias=True)\n",
       "          )\n",
       "          (output): BertOutput(\n",
       "            (dense): Linear(in_features=3072, out_features=768, bias=True)\n",
       "            (LayerNorm): LayerNorm((768,), eps=1e-12, elementwise_affine=True)\n",
       "            (dropout): Dropout(p=0.1, inplace=False)\n",
       "          )\n",
       "        )\n",
       "        (6): BertLayer(\n",
       "          (attention): BertAttention(\n",
       "            (self): BertSelfAttention(\n",
       "              (query): Linear(in_features=768, out_features=768, bias=True)\n",
       "              (key): Linear(in_features=768, out_features=768, bias=True)\n",
       "              (value): Linear(in_features=768, out_features=768, bias=True)\n",
       "              (dropout): Dropout(p=0.1, inplace=False)\n",
       "            )\n",
       "            (output): BertSelfOutput(\n",
       "              (dense): Linear(in_features=768, out_features=768, bias=True)\n",
       "              (LayerNorm): LayerNorm((768,), eps=1e-12, elementwise_affine=True)\n",
       "              (dropout): Dropout(p=0.1, inplace=False)\n",
       "            )\n",
       "          )\n",
       "          (intermediate): BertIntermediate(\n",
       "            (dense): Linear(in_features=768, out_features=3072, bias=True)\n",
       "          )\n",
       "          (output): BertOutput(\n",
       "            (dense): Linear(in_features=3072, out_features=768, bias=True)\n",
       "            (LayerNorm): LayerNorm((768,), eps=1e-12, elementwise_affine=True)\n",
       "            (dropout): Dropout(p=0.1, inplace=False)\n",
       "          )\n",
       "        )\n",
       "        (7): BertLayer(\n",
       "          (attention): BertAttention(\n",
       "            (self): BertSelfAttention(\n",
       "              (query): Linear(in_features=768, out_features=768, bias=True)\n",
       "              (key): Linear(in_features=768, out_features=768, bias=True)\n",
       "              (value): Linear(in_features=768, out_features=768, bias=True)\n",
       "              (dropout): Dropout(p=0.1, inplace=False)\n",
       "            )\n",
       "            (output): BertSelfOutput(\n",
       "              (dense): Linear(in_features=768, out_features=768, bias=True)\n",
       "              (LayerNorm): LayerNorm((768,), eps=1e-12, elementwise_affine=True)\n",
       "              (dropout): Dropout(p=0.1, inplace=False)\n",
       "            )\n",
       "          )\n",
       "          (intermediate): BertIntermediate(\n",
       "            (dense): Linear(in_features=768, out_features=3072, bias=True)\n",
       "          )\n",
       "          (output): BertOutput(\n",
       "            (dense): Linear(in_features=3072, out_features=768, bias=True)\n",
       "            (LayerNorm): LayerNorm((768,), eps=1e-12, elementwise_affine=True)\n",
       "            (dropout): Dropout(p=0.1, inplace=False)\n",
       "          )\n",
       "        )\n",
       "        (8): BertLayer(\n",
       "          (attention): BertAttention(\n",
       "            (self): BertSelfAttention(\n",
       "              (query): Linear(in_features=768, out_features=768, bias=True)\n",
       "              (key): Linear(in_features=768, out_features=768, bias=True)\n",
       "              (value): Linear(in_features=768, out_features=768, bias=True)\n",
       "              (dropout): Dropout(p=0.1, inplace=False)\n",
       "            )\n",
       "            (output): BertSelfOutput(\n",
       "              (dense): Linear(in_features=768, out_features=768, bias=True)\n",
       "              (LayerNorm): LayerNorm((768,), eps=1e-12, elementwise_affine=True)\n",
       "              (dropout): Dropout(p=0.1, inplace=False)\n",
       "            )\n",
       "          )\n",
       "          (intermediate): BertIntermediate(\n",
       "            (dense): Linear(in_features=768, out_features=3072, bias=True)\n",
       "          )\n",
       "          (output): BertOutput(\n",
       "            (dense): Linear(in_features=3072, out_features=768, bias=True)\n",
       "            (LayerNorm): LayerNorm((768,), eps=1e-12, elementwise_affine=True)\n",
       "            (dropout): Dropout(p=0.1, inplace=False)\n",
       "          )\n",
       "        )\n",
       "        (9): BertLayer(\n",
       "          (attention): BertAttention(\n",
       "            (self): BertSelfAttention(\n",
       "              (query): Linear(in_features=768, out_features=768, bias=True)\n",
       "              (key): Linear(in_features=768, out_features=768, bias=True)\n",
       "              (value): Linear(in_features=768, out_features=768, bias=True)\n",
       "              (dropout): Dropout(p=0.1, inplace=False)\n",
       "            )\n",
       "            (output): BertSelfOutput(\n",
       "              (dense): Linear(in_features=768, out_features=768, bias=True)\n",
       "              (LayerNorm): LayerNorm((768,), eps=1e-12, elementwise_affine=True)\n",
       "              (dropout): Dropout(p=0.1, inplace=False)\n",
       "            )\n",
       "          )\n",
       "          (intermediate): BertIntermediate(\n",
       "            (dense): Linear(in_features=768, out_features=3072, bias=True)\n",
       "          )\n",
       "          (output): BertOutput(\n",
       "            (dense): Linear(in_features=3072, out_features=768, bias=True)\n",
       "            (LayerNorm): LayerNorm((768,), eps=1e-12, elementwise_affine=True)\n",
       "            (dropout): Dropout(p=0.1, inplace=False)\n",
       "          )\n",
       "        )\n",
       "        (10): BertLayer(\n",
       "          (attention): BertAttention(\n",
       "            (self): BertSelfAttention(\n",
       "              (query): Linear(in_features=768, out_features=768, bias=True)\n",
       "              (key): Linear(in_features=768, out_features=768, bias=True)\n",
       "              (value): Linear(in_features=768, out_features=768, bias=True)\n",
       "              (dropout): Dropout(p=0.1, inplace=False)\n",
       "            )\n",
       "            (output): BertSelfOutput(\n",
       "              (dense): Linear(in_features=768, out_features=768, bias=True)\n",
       "              (LayerNorm): LayerNorm((768,), eps=1e-12, elementwise_affine=True)\n",
       "              (dropout): Dropout(p=0.1, inplace=False)\n",
       "            )\n",
       "          )\n",
       "          (intermediate): BertIntermediate(\n",
       "            (dense): Linear(in_features=768, out_features=3072, bias=True)\n",
       "          )\n",
       "          (output): BertOutput(\n",
       "            (dense): Linear(in_features=3072, out_features=768, bias=True)\n",
       "            (LayerNorm): LayerNorm((768,), eps=1e-12, elementwise_affine=True)\n",
       "            (dropout): Dropout(p=0.1, inplace=False)\n",
       "          )\n",
       "        )\n",
       "        (11): BertLayer(\n",
       "          (attention): BertAttention(\n",
       "            (self): BertSelfAttention(\n",
       "              (query): Linear(in_features=768, out_features=768, bias=True)\n",
       "              (key): Linear(in_features=768, out_features=768, bias=True)\n",
       "              (value): Linear(in_features=768, out_features=768, bias=True)\n",
       "              (dropout): Dropout(p=0.1, inplace=False)\n",
       "            )\n",
       "            (output): BertSelfOutput(\n",
       "              (dense): Linear(in_features=768, out_features=768, bias=True)\n",
       "              (LayerNorm): LayerNorm((768,), eps=1e-12, elementwise_affine=True)\n",
       "              (dropout): Dropout(p=0.1, inplace=False)\n",
       "            )\n",
       "          )\n",
       "          (intermediate): BertIntermediate(\n",
       "            (dense): Linear(in_features=768, out_features=3072, bias=True)\n",
       "          )\n",
       "          (output): BertOutput(\n",
       "            (dense): Linear(in_features=3072, out_features=768, bias=True)\n",
       "            (LayerNorm): LayerNorm((768,), eps=1e-12, elementwise_affine=True)\n",
       "            (dropout): Dropout(p=0.1, inplace=False)\n",
       "          )\n",
       "        )\n",
       "      )\n",
       "    )\n",
       "    (pooler): BertPooler(\n",
       "      (dense): Linear(in_features=768, out_features=768, bias=True)\n",
       "      (activation): Tanh()\n",
       "    )\n",
       "  )\n",
       "  (dropout): Dropout(p=0.1, inplace=False)\n",
       "  (classifier): Linear(in_features=768, out_features=2, bias=True)\n",
       ")"
      ]
     },
     "execution_count": 145,
     "metadata": {},
     "output_type": "execute_result"
    }
   ],
   "source": [
    "model_path = 'bert_weibo_model_1'\n",
    "model = BertForSequenceClassification.from_pretrained(model_path)\n",
    "tokenizer = BertTokenizer.from_pretrained(model_path)\n",
    "device = torch.device('cuda' if torch.cuda.is_available() else 'cpu')\n",
    "model.to(device)"
   ]
  },
  {
   "cell_type": "code",
   "execution_count": 146,
   "id": "4d701f15-29c1-4278-b5da-b7868e2ffbb4",
   "metadata": {},
   "outputs": [],
   "source": [
    "new_data= new_data.dropna(subset=['weibo_content'])"
   ]
  },
  {
   "cell_type": "code",
   "execution_count": 147,
   "id": "05432456-b876-47b5-8302-ddfe2557f07d",
   "metadata": {},
   "outputs": [],
   "source": [
    "# 定义一个函数，该函数将文本数据转换为Bert的输入格式\n",
    "def preprocess(text):\n",
    "    encoded = tokenizer.encode_plus(\n",
    "        text,\n",
    "        max_length=512,\n",
    "        padding='max_length',\n",
    "        truncation=True,\n",
    "        return_tensors='pt'\n",
    "    )\n",
    "    return encoded['input_ids'], encoded['attention_mask']"
   ]
  },
  {
   "cell_type": "code",
   "execution_count": 149,
   "id": "c74de924-b472-4b6c-bd6f-97bc646c68eb",
   "metadata": {},
   "outputs": [],
   "source": [
    "model.eval()\n",
    "predictions = []\n",
    "device = torch.device('cuda') if torch.cuda.is_available() else torch.device('cpu')\n",
    "\n",
    "for i, row in new_data.iterrows():\n",
    "    input_ids, attention_mask = preprocess(row['weibo_content'])\n",
    "    input_ids = input_ids.to(device)\n",
    "    attention_mask = attention_mask.to(device)\n",
    "    \n",
    "    with torch.no_grad():\n",
    "        outputs = model(input_ids, attention_mask)\n",
    "    \n",
    "    _, predicted_label = torch.max(outputs[0], dim=1)\n",
    "    predictions.append(predicted_label.item())"
   ]
  },
  {
   "cell_type": "code",
   "execution_count": null,
   "id": "19cd985f-ac0d-4c62-9838-884f36ceccd0",
   "metadata": {},
   "outputs": [],
   "source": []
  },
  {
   "cell_type": "code",
   "execution_count": null,
   "id": "12ba599a-0919-487c-9c99-d5fe562785cd",
   "metadata": {},
   "outputs": [],
   "source": []
  },
  {
   "cell_type": "code",
   "execution_count": 150,
   "id": "eecd2aa1-10e6-43fe-bdc2-4e722836dd0e",
   "metadata": {},
   "outputs": [],
   "source": [
    "new_data['pre_labels'] = predictions"
   ]
  },
  {
   "cell_type": "code",
   "execution_count": 151,
   "id": "128e9917-3604-4315-8725-2bc6c99f9333",
   "metadata": {},
   "outputs": [],
   "source": [
    "new_data=new_data[new_data.pre_labels!=0]"
   ]
  },
  {
   "cell_type": "code",
   "execution_count": 152,
   "id": "ee1b8c1a-72e5-431c-b716-565335d0b394",
   "metadata": {},
   "outputs": [],
   "source": [
    "new_data.drop(\"pre_labels\", axis=1, inplace=True)"
   ]
  },
  {
   "cell_type": "code",
   "execution_count": 153,
   "id": "b3dab431-f9a6-4d52-99a9-715b84a782e7",
   "metadata": {},
   "outputs": [],
   "source": [
    "new_data.to_csv('cleaned_data.csv', index=False)"
   ]
  },
  {
   "cell_type": "code",
   "execution_count": null,
   "id": "5828ee02-33a2-46f0-aa28-8f052d3caa46",
   "metadata": {},
   "outputs": [],
   "source": []
  }
 ],
 "metadata": {
  "kernelspec": {
   "display_name": "Python 3 (ipykernel)",
   "language": "python",
   "name": "python3"
  },
  "language_info": {
   "codemirror_mode": {
    "name": "ipython",
    "version": 3
   },
   "file_extension": ".py",
   "mimetype": "text/x-python",
   "name": "python",
   "nbconvert_exporter": "python",
   "pygments_lexer": "ipython3",
   "version": "3.8.12"
  }
 },
 "nbformat": 4,
 "nbformat_minor": 5
}
